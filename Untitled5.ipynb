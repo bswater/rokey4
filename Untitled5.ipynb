{
  "nbformat": 4,
  "nbformat_minor": 0,
  "metadata": {
    "colab": {
      "provenance": [],
      "authorship_tag": "ABX9TyPKFRz73P/HHw9PGPD8pM8k",
      "include_colab_link": true
    },
    "kernelspec": {
      "name": "python3",
      "display_name": "Python 3"
    },
    "language_info": {
      "name": "python"
    }
  },
  "cells": [
    {
      "cell_type": "markdown",
      "metadata": {
        "id": "view-in-github",
        "colab_type": "text"
      },
      "source": [
        "<a href=\"https://colab.research.google.com/github/bswater/rokey4/blob/main/Untitled5.ipynb\" target=\"_parent\"><img src=\"https://colab.research.google.com/assets/colab-badge.svg\" alt=\"Open In Colab\"/></a>"
      ]
    },
    {
      "cell_type": "markdown",
      "source": [
        "## 04 예측 함수 정의하기\n",
        "머신러닝 구현의 전체상에 관해 알아봄. 딥러닝 프로그램이라면, 구현에서 특히 중요한 부분은 예측 함수이다. 예측 함수의 영역에서는 용어의 정의가 다소 애매한 부분이 있고, 그것이 머신 러닝 모델을 이해하는 데 어려움을 겪는 요인이기도 하다.\n",
        "\n",
        "## 4.1 머신러닝 알고리즘의 전체상과 예측함수\n",
        "우선, 입력 텐서로부터 출력 텐서를 계산하는 예측함수를 정의했다. 어전 장에서 예측 함수는 파라미터 W화 B를 갖는 함수였다.\n",
        "다음으로 정답 텐서 Y와 출력 텐서 Yp의 값을 사용해 오차의 크기를 평가하는 손실 함수를 정의했다. 경사 하강법이란 '예측 함수'와 '손실 함수'의 합성 함수인 '손실'의 경사값(미분값)을 이용해 W와 B의 값을 반복 수정하는 계산을 통해 최적의 값을 구해내는 방법이었다.\n"
      ],
      "metadata": {
        "id": "2zU7wtYNc0My"
      }
    },
    {
      "cell_type": "code",
      "execution_count": null,
      "metadata": {
        "id": "AucuvKJXcyyL"
      },
      "outputs": [],
      "source": []
    }
  ]
}